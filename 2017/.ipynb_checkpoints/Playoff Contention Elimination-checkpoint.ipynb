{
 "cells": [
  {
   "cell_type": "markdown",
   "metadata": {},
   "source": [
    "### Playoff Contention Elimination"
   ]
  },
  {
   "cell_type": "code",
   "execution_count": 22,
   "metadata": {
    "collapsed": false
   },
   "outputs": [
    {
     "data": {
      "text/html": [
       "<script>requirejs.config({paths: { 'plotly': ['https://cdn.plot.ly/plotly-latest.min']},});if(!window.Plotly) {{require(['plotly'],function(plotly) {window.Plotly=plotly;});}}</script>"
      ],
      "text/vnd.plotly.v1+html": [
       "<script>requirejs.config({paths: { 'plotly': ['https://cdn.plot.ly/plotly-latest.min']},});if(!window.Plotly) {{require(['plotly'],function(plotly) {window.Plotly=plotly;});}}</script>"
      ]
     },
     "metadata": {},
     "output_type": "display_data"
    }
   ],
   "source": [
    "import pandas as pd\n",
    "import numpy as np\n",
    "from plotly import __version__\n",
    "from plotly.offline import download_plotlyjs, init_notebook_mode, plot, iplot\n",
    "# import cufflinks as cf\n",
    "\n",
    "%matplotlib inline\n",
    "init_notebook_mode(connected=True)\n",
    "# cf.go_offline()"
   ]
  },
  {
   "cell_type": "code",
   "execution_count": 20,
   "metadata": {
    "collapsed": false
   },
   "outputs": [
    {
     "data": {
      "text/html": [
       "<div>\n",
       "<table border=\"1\" class=\"dataframe\">\n",
       "  <thead>\n",
       "    <tr style=\"text-align: right;\">\n",
       "      <th></th>\n",
       "      <th>Team_Name</th>\n",
       "      <th>Conference_id</th>\n",
       "      <th>Wins</th>\n",
       "      <th>Losses</th>\n",
       "      <th>Elimination Date</th>\n",
       "    </tr>\n",
       "  </thead>\n",
       "  <tbody>\n",
       "    <tr>\n",
       "      <th>20</th>\n",
       "      <td>Golden State Warriors</td>\n",
       "      <td>West</td>\n",
       "      <td>67</td>\n",
       "      <td>15</td>\n",
       "      <td>Playoffs</td>\n",
       "    </tr>\n",
       "    <tr>\n",
       "      <th>29</th>\n",
       "      <td>San Antonio Spurs</td>\n",
       "      <td>West</td>\n",
       "      <td>61</td>\n",
       "      <td>21</td>\n",
       "      <td>Playoffs</td>\n",
       "    </tr>\n",
       "    <tr>\n",
       "      <th>26</th>\n",
       "      <td>Houston Rockets</td>\n",
       "      <td>West</td>\n",
       "      <td>55</td>\n",
       "      <td>27</td>\n",
       "      <td>Playoffs</td>\n",
       "    </tr>\n",
       "    <tr>\n",
       "      <th>19</th>\n",
       "      <td>Utah Jazz</td>\n",
       "      <td>West</td>\n",
       "      <td>51</td>\n",
       "      <td>31</td>\n",
       "      <td>Playoffs</td>\n",
       "    </tr>\n",
       "    <tr>\n",
       "      <th>21</th>\n",
       "      <td>LA Clippers</td>\n",
       "      <td>West</td>\n",
       "      <td>51</td>\n",
       "      <td>31</td>\n",
       "      <td>Playoffs</td>\n",
       "    </tr>\n",
       "    <tr>\n",
       "      <th>17</th>\n",
       "      <td>Oklahoma City Thunder</td>\n",
       "      <td>West</td>\n",
       "      <td>47</td>\n",
       "      <td>35</td>\n",
       "      <td>Playoffs</td>\n",
       "    </tr>\n",
       "    <tr>\n",
       "      <th>27</th>\n",
       "      <td>Memphis Grizzlies</td>\n",
       "      <td>West</td>\n",
       "      <td>43</td>\n",
       "      <td>39</td>\n",
       "      <td>Playoffs</td>\n",
       "    </tr>\n",
       "    <tr>\n",
       "      <th>18</th>\n",
       "      <td>Portland Trail Blazers</td>\n",
       "      <td>West</td>\n",
       "      <td>41</td>\n",
       "      <td>41</td>\n",
       "      <td>Playoffs</td>\n",
       "    </tr>\n",
       "    <tr>\n",
       "      <th>15</th>\n",
       "      <td>Denver Nuggets</td>\n",
       "      <td>West</td>\n",
       "      <td>40</td>\n",
       "      <td>42</td>\n",
       "      <td>2017-04-10</td>\n",
       "    </tr>\n",
       "    <tr>\n",
       "      <th>28</th>\n",
       "      <td>New Orleans Pelicans</td>\n",
       "      <td>West</td>\n",
       "      <td>34</td>\n",
       "      <td>48</td>\n",
       "      <td>2017-04-04</td>\n",
       "    </tr>\n",
       "    <tr>\n",
       "      <th>25</th>\n",
       "      <td>Dallas Mavericks</td>\n",
       "      <td>West</td>\n",
       "      <td>33</td>\n",
       "      <td>49</td>\n",
       "      <td>2017-04-05</td>\n",
       "    </tr>\n",
       "    <tr>\n",
       "      <th>24</th>\n",
       "      <td>Sacramento Kings</td>\n",
       "      <td>West</td>\n",
       "      <td>32</td>\n",
       "      <td>50</td>\n",
       "      <td>2017-03-30</td>\n",
       "    </tr>\n",
       "    <tr>\n",
       "      <th>16</th>\n",
       "      <td>Minnesota Timberwolves</td>\n",
       "      <td>West</td>\n",
       "      <td>31</td>\n",
       "      <td>51</td>\n",
       "      <td>2017-04-01</td>\n",
       "    </tr>\n",
       "    <tr>\n",
       "      <th>22</th>\n",
       "      <td>Los Angeles Lakers</td>\n",
       "      <td>West</td>\n",
       "      <td>26</td>\n",
       "      <td>56</td>\n",
       "      <td>2017-03-19</td>\n",
       "    </tr>\n",
       "    <tr>\n",
       "      <th>23</th>\n",
       "      <td>Phoenix Suns</td>\n",
       "      <td>West</td>\n",
       "      <td>24</td>\n",
       "      <td>58</td>\n",
       "      <td>2017-03-22</td>\n",
       "    </tr>\n",
       "    <tr>\n",
       "      <th>0</th>\n",
       "      <td>Boston Celtics</td>\n",
       "      <td>East</td>\n",
       "      <td>53</td>\n",
       "      <td>29</td>\n",
       "      <td>Playoffs</td>\n",
       "    </tr>\n",
       "    <tr>\n",
       "      <th>4</th>\n",
       "      <td>Toronto Raptors</td>\n",
       "      <td>East</td>\n",
       "      <td>51</td>\n",
       "      <td>31</td>\n",
       "      <td>Playoffs</td>\n",
       "    </tr>\n",
       "    <tr>\n",
       "      <th>6</th>\n",
       "      <td>Cleveland Cavaliers</td>\n",
       "      <td>East</td>\n",
       "      <td>51</td>\n",
       "      <td>31</td>\n",
       "      <td>Playoffs</td>\n",
       "    </tr>\n",
       "    <tr>\n",
       "      <th>14</th>\n",
       "      <td>Washington Wizards</td>\n",
       "      <td>East</td>\n",
       "      <td>49</td>\n",
       "      <td>33</td>\n",
       "      <td>Playoffs</td>\n",
       "    </tr>\n",
       "    <tr>\n",
       "      <th>10</th>\n",
       "      <td>Atlanta Hawks</td>\n",
       "      <td>East</td>\n",
       "      <td>43</td>\n",
       "      <td>39</td>\n",
       "      <td>Playoffs</td>\n",
       "    </tr>\n",
       "    <tr>\n",
       "      <th>8</th>\n",
       "      <td>Indiana Pacers</td>\n",
       "      <td>East</td>\n",
       "      <td>42</td>\n",
       "      <td>40</td>\n",
       "      <td>Playoffs</td>\n",
       "    </tr>\n",
       "    <tr>\n",
       "      <th>9</th>\n",
       "      <td>Milwaukee Bucks</td>\n",
       "      <td>East</td>\n",
       "      <td>42</td>\n",
       "      <td>40</td>\n",
       "      <td>Playoffs</td>\n",
       "    </tr>\n",
       "    <tr>\n",
       "      <th>5</th>\n",
       "      <td>Chicago Bulls</td>\n",
       "      <td>East</td>\n",
       "      <td>41</td>\n",
       "      <td>41</td>\n",
       "      <td>Playoffs</td>\n",
       "    </tr>\n",
       "    <tr>\n",
       "      <th>12</th>\n",
       "      <td>Miami Heat</td>\n",
       "      <td>East</td>\n",
       "      <td>41</td>\n",
       "      <td>41</td>\n",
       "      <td>Playoffs</td>\n",
       "    </tr>\n",
       "    <tr>\n",
       "      <th>7</th>\n",
       "      <td>Detroit Pistons</td>\n",
       "      <td>East</td>\n",
       "      <td>37</td>\n",
       "      <td>45</td>\n",
       "      <td>2017-04-10</td>\n",
       "    </tr>\n",
       "    <tr>\n",
       "      <th>11</th>\n",
       "      <td>Charlotte Hornets</td>\n",
       "      <td>East</td>\n",
       "      <td>36</td>\n",
       "      <td>46</td>\n",
       "      <td>2017-04-08</td>\n",
       "    </tr>\n",
       "    <tr>\n",
       "      <th>2</th>\n",
       "      <td>New York Knicks</td>\n",
       "      <td>East</td>\n",
       "      <td>31</td>\n",
       "      <td>51</td>\n",
       "      <td>2017-03-29</td>\n",
       "    </tr>\n",
       "    <tr>\n",
       "      <th>13</th>\n",
       "      <td>Orlando Magic</td>\n",
       "      <td>East</td>\n",
       "      <td>29</td>\n",
       "      <td>53</td>\n",
       "      <td>2017-03-28</td>\n",
       "    </tr>\n",
       "    <tr>\n",
       "      <th>3</th>\n",
       "      <td>Philadelphia 76ers</td>\n",
       "      <td>East</td>\n",
       "      <td>28</td>\n",
       "      <td>54</td>\n",
       "      <td>2017-03-30</td>\n",
       "    </tr>\n",
       "    <tr>\n",
       "      <th>1</th>\n",
       "      <td>Brooklyn Nets</td>\n",
       "      <td>East</td>\n",
       "      <td>20</td>\n",
       "      <td>62</td>\n",
       "      <td>2017-03-08</td>\n",
       "    </tr>\n",
       "  </tbody>\n",
       "</table>\n",
       "</div>"
      ],
      "text/plain": [
       "                 Team_Name Conference_id  Wins  Losses Elimination Date\n",
       "20   Golden State Warriors          West    67      15         Playoffs\n",
       "29       San Antonio Spurs          West    61      21         Playoffs\n",
       "26         Houston Rockets          West    55      27         Playoffs\n",
       "19               Utah Jazz          West    51      31         Playoffs\n",
       "21             LA Clippers          West    51      31         Playoffs\n",
       "17   Oklahoma City Thunder          West    47      35         Playoffs\n",
       "27       Memphis Grizzlies          West    43      39         Playoffs\n",
       "18  Portland Trail Blazers          West    41      41         Playoffs\n",
       "15          Denver Nuggets          West    40      42       2017-04-10\n",
       "28    New Orleans Pelicans          West    34      48       2017-04-04\n",
       "25        Dallas Mavericks          West    33      49       2017-04-05\n",
       "24        Sacramento Kings          West    32      50       2017-03-30\n",
       "16  Minnesota Timberwolves          West    31      51       2017-04-01\n",
       "22      Los Angeles Lakers          West    26      56       2017-03-19\n",
       "23            Phoenix Suns          West    24      58       2017-03-22\n",
       "0           Boston Celtics          East    53      29         Playoffs\n",
       "4          Toronto Raptors          East    51      31         Playoffs\n",
       "6      Cleveland Cavaliers          East    51      31         Playoffs\n",
       "14      Washington Wizards          East    49      33         Playoffs\n",
       "10           Atlanta Hawks          East    43      39         Playoffs\n",
       "8           Indiana Pacers          East    42      40         Playoffs\n",
       "9          Milwaukee Bucks          East    42      40         Playoffs\n",
       "5            Chicago Bulls          East    41      41         Playoffs\n",
       "12              Miami Heat          East    41      41         Playoffs\n",
       "7          Detroit Pistons          East    37      45       2017-04-10\n",
       "11       Charlotte Hornets          East    36      46       2017-04-08\n",
       "2          New York Knicks          East    31      51       2017-03-29\n",
       "13           Orlando Magic          East    29      53       2017-03-28\n",
       "3       Philadelphia 76ers          East    28      54       2017-03-30\n",
       "1            Brooklyn Nets          East    20      62       2017-03-08"
      ]
     },
     "execution_count": 20,
     "metadata": {},
     "output_type": "execute_result"
    }
   ],
   "source": [
    "# Data Configuration\n",
    "division_info = pd.read_excel(\"Analytics_Attachment.xlsx\", sheetname=\"Division_Info\")\n",
    "scores = pd.read_excel(\"Analytics_Attachment.xlsx\", sheetname=\"2016_17_NBA_Scores\")\n",
    "\n",
    "# For our purposes, the 'division' columns in division_info and 'Home Score', 'Away Score'\n",
    "# columns in scores are unnecessary\n",
    "division_info.drop('Division_id', axis=1, inplace=True)\n",
    "scores.drop(['Home Score', 'Away Score'], axis=1, inplace=True)\n",
    "\n",
    "division_info['Wins'] = 0\n",
    "division_info['Losses'] = 0\n",
    "division_info['Elimination Date'] = \"Playoffs\"\n",
    "\n",
    "# Using a MultiIndex Pandas Dataframe, we group the games occuring on the same with each\n",
    "# other to make traversal easier. The reason a 'Dummy' column is b/c multiple index groups\n",
    "# are required.\n",
    "scores['Game No.'] = range(0, scores['Date'].count())\n",
    "scores.set_index(['Date', 'Game No.'], inplace=True)\n",
    "# scores.reset_index(level=2, drop=True) # Would destory multiindex property\n",
    "\n",
    "# Iterating through the MultiIndex Dataframe by Date\n",
    "for value in scores.index.get_level_values('Date').unique():\n",
    "    currentDate = value.strftime('%Y-%m-%d')\n",
    "    miniFrame = scores.xs(currentDate)\n",
    "    \n",
    "    # Iterate through all games that occurred on 'currentDate' and adjust records accordingly\n",
    "    for index, row in miniFrame.iterrows():\n",
    "        if (row['Winner'] == 'Home'):\n",
    "            # Home Team Won\n",
    "            division_info.loc[division_info['Team_Name'] == row['Home Team'], 'Wins'] += 1\n",
    "            division_info.loc[division_info['Team_Name'] == row['Away Team'], 'Losses'] += 1\n",
    "        elif (row['Winner'] == 'Away'):\n",
    "            # Away Team Won\n",
    "            division_info.loc[division_info['Team_Name'] == row['Home Team'], 'Losses'] += 1\n",
    "            division_info.loc[division_info['Team_Name'] == row['Away Team'], 'Wins'] += 1\n",
    "        else:\n",
    "            print(\"Error: Invalid 'Winner' Value\")\n",
    "    \n",
    "    # Elimination Calculation\n",
    "    eastern_Conference = division_info[(division_info['Conference_id'] == 'East') & (division_info['Elimination Date'] == \"Playoffs\")].sort_values(['Wins'], ascending=False)\n",
    "    western_Conference = division_info[(division_info['Conference_id'] == 'West') & (division_info['Elimination Date'] == \"Playoffs\")].sort_values(['Wins'], ascending=False)\n",
    "\n",
    "    eastLast = eastern_Conference[eastern_Conference['Losses'] == max(eastern_Conference['Losses'])]\n",
    "    westLast = western_Conference[western_Conference['Losses'] == max(western_Conference['Losses'])]\n",
    "\n",
    "    eastEighth = eastern_Conference.iloc[[7]]\n",
    "    westEighth = western_Conference.iloc[[7]]\n",
    "\n",
    "    # print('East Last: ', eastLast['Team_Name'].values[0], '\\nWest Last: ', westLast['Team_Name'].values[0],\n",
    "    #           '\\nWest Eighth: ', westEighth['Team_Name'].values[0], '\\nEast Eighth: ', eastEighth['Team_Name'].values[0])\n",
    "\n",
    "    maxWins = eastLast['Wins'].values[0] + (82 - eastLast['Wins'].values[0] - eastLast['Losses'].values[0])\n",
    "    if (eastEighth['Wins'].values[0] > maxWins):\n",
    "        division_info.loc[division_info['Team_Name'] == eastLast['Team_Name'].values[0], ['Elimination Date']] = currentDate\n",
    "        \n",
    "    maxWins = westLast['Wins'].values[0] + (82 - westLast['Wins'].values[0] - westLast['Losses'].values[0])\n",
    "    if (westEighth['Wins'].values[0] > maxWins):\n",
    "        division_info.loc[division_info['Team_Name'] == westLast['Team_Name'].values[0], ['Elimination Date']] = currentDate\n",
    "\n",
    "division_info.sort_values(['Conference_id', 'Wins'], ascending=False)"
   ]
  },
  {
   "cell_type": "code",
   "execution_count": 29,
   "metadata": {
    "collapsed": false
   },
   "outputs": [
    {
     "data": {
      "application/vnd.plotly.v1+json": {
       "data": [
        {
         "line": {
          "color": "rgba(255, 153, 51, 1.0)",
          "dash": "solid",
          "width": 1.3
         },
         "mode": "lines",
         "name": "Wins",
         "text": "",
         "type": "scatter",
         "x": [
          0,
          1,
          2,
          3,
          4,
          5,
          6,
          7,
          8,
          9,
          10,
          11,
          12,
          13,
          14,
          15,
          16,
          17,
          18,
          19,
          20,
          21,
          22,
          23,
          24,
          25,
          26,
          27,
          28,
          29
         ],
         "y": [
          53,
          20,
          31,
          28,
          51,
          41,
          51,
          37,
          42,
          42,
          43,
          36,
          41,
          29,
          49,
          40,
          31,
          47,
          41,
          51,
          67,
          51,
          26,
          24,
          32,
          33,
          55,
          43,
          34,
          61
         ]
        },
        {
         "line": {
          "color": "rgba(55, 128, 191, 1.0)",
          "dash": "solid",
          "width": 1.3
         },
         "mode": "lines",
         "name": "Losses",
         "text": "",
         "type": "scatter",
         "x": [
          0,
          1,
          2,
          3,
          4,
          5,
          6,
          7,
          8,
          9,
          10,
          11,
          12,
          13,
          14,
          15,
          16,
          17,
          18,
          19,
          20,
          21,
          22,
          23,
          24,
          25,
          26,
          27,
          28,
          29
         ],
         "y": [
          29,
          62,
          51,
          54,
          31,
          41,
          31,
          45,
          40,
          40,
          39,
          46,
          41,
          53,
          33,
          42,
          51,
          35,
          41,
          31,
          15,
          31,
          56,
          58,
          50,
          49,
          27,
          39,
          48,
          21
         ]
        },
        {
         "connectgaps": false,
         "fill": "tozeroy",
         "line": {
          "color": "red",
          "dash": "solid",
          "width": 0.5
         },
         "mode": "lines",
         "name": "Spread",
         "showlegend": false,
         "type": "scatter",
         "x": [
          0,
          1,
          2,
          3,
          4,
          5,
          6,
          7,
          8,
          9,
          10,
          11,
          12,
          13,
          14,
          15,
          16,
          17,
          18,
          19,
          20,
          21,
          22,
          23,
          24,
          25,
          26,
          27,
          28,
          29
         ],
         "xaxis": "x2",
         "y": [
          "",
          -42,
          -20,
          -26,
          "",
          "",
          "",
          -8,
          "",
          "",
          "",
          -10,
          "",
          -24,
          "",
          -2,
          -20,
          "",
          "",
          "",
          "",
          "",
          -30,
          -34,
          -18,
          -16,
          "",
          "",
          -14,
          ""
         ],
         "yaxis": "y2"
        },
        {
         "connectgaps": false,
         "fill": "tozeroy",
         "line": {
          "color": "green",
          "dash": "solid",
          "width": 0.5
         },
         "mode": "lines",
         "name": "Spread",
         "showlegend": false,
         "type": "scatter",
         "x": [
          0,
          1,
          2,
          3,
          4,
          5,
          6,
          7,
          8,
          9,
          10,
          11,
          12,
          13,
          14,
          15,
          16,
          17,
          18,
          19,
          20,
          21,
          22,
          23,
          24,
          25,
          26,
          27,
          28,
          29
         ],
         "xaxis": "x2",
         "y": [
          24,
          "",
          "",
          "",
          20,
          0,
          20,
          "",
          2,
          2,
          4,
          "",
          0,
          "",
          16,
          "",
          "",
          12,
          0,
          20,
          52,
          20,
          "",
          "",
          "",
          "",
          28,
          4,
          "",
          40
         ],
         "yaxis": "y2"
        }
       ],
       "layout": {
        "hovermode": "x",
        "legend": {
         "bgcolor": "#F5F6F9",
         "font": {
          "color": "#4D5663"
         }
        },
        "paper_bgcolor": "#F5F6F9",
        "plot_bgcolor": "#F5F6F9",
        "titlefont": {
         "color": "#4D5663"
        },
        "xaxis1": {
         "gridcolor": "#E1E5ED",
         "showgrid": true,
         "tickfont": {
          "color": "#4D5663"
         },
         "title": "",
         "titlefont": {
          "color": "#4D5663"
         },
         "zerolinecolor": "#E1E5ED"
        },
        "xaxis2": {
         "anchor": "y2",
         "gridcolor": "#E1E5ED",
         "showgrid": true,
         "showticklabels": false,
         "tickfont": {
          "color": "#4D5663"
         },
         "title": "",
         "titlefont": {
          "color": "#4D5663"
         },
         "zerolinecolor": "#E1E5ED"
        },
        "yaxis1": {
         "domain": [
          0.3,
          1
         ],
         "gridcolor": "#E1E5ED",
         "showgrid": true,
         "tickfont": {
          "color": "#4D5663"
         },
         "title": "",
         "titlefont": {
          "color": "#4D5663"
         },
         "zerolinecolor": "#E1E5ED"
        },
        "yaxis2": {
         "domain": [
          0,
          0.25
         ],
         "gridcolor": "#E1E5ED",
         "showgrid": true,
         "tickfont": {
          "color": "#4D5663"
         },
         "title": "Spread",
         "titlefont": {
          "color": "#4D5663"
         },
         "zerolinecolor": "#E1E5ED"
        }
       }
      },
      "text/html": [
       "<div id=\"37be7970-335e-4fa1-ae7c-522fc9f6f7cc\" style=\"height: 525px; width: 100%;\" class=\"plotly-graph-div\"></div><script type=\"text/javascript\">require([\"plotly\"], function(Plotly) { window.PLOTLYENV=window.PLOTLYENV || {};window.PLOTLYENV.BASE_URL=\"https://plot.ly\";Plotly.newPlot(\"37be7970-335e-4fa1-ae7c-522fc9f6f7cc\", [{\"x\": [0, 1, 2, 3, 4, 5, 6, 7, 8, 9, 10, 11, 12, 13, 14, 15, 16, 17, 18, 19, 20, 21, 22, 23, 24, 25, 26, 27, 28, 29], \"y\": [53, 20, 31, 28, 51, 41, 51, 37, 42, 42, 43, 36, 41, 29, 49, 40, 31, 47, 41, 51, 67, 51, 26, 24, 32, 33, 55, 43, 34, 61], \"mode\": \"lines\", \"text\": \"\", \"name\": \"Wins\", \"line\": {\"width\": 1.3, \"color\": \"rgba(255, 153, 51, 1.0)\", \"dash\": \"solid\"}, \"type\": \"scatter\"}, {\"x\": [0, 1, 2, 3, 4, 5, 6, 7, 8, 9, 10, 11, 12, 13, 14, 15, 16, 17, 18, 19, 20, 21, 22, 23, 24, 25, 26, 27, 28, 29], \"y\": [29, 62, 51, 54, 31, 41, 31, 45, 40, 40, 39, 46, 41, 53, 33, 42, 51, 35, 41, 31, 15, 31, 56, 58, 50, 49, 27, 39, 48, 21], \"mode\": \"lines\", \"text\": \"\", \"name\": \"Losses\", \"line\": {\"width\": 1.3, \"color\": \"rgba(55, 128, 191, 1.0)\", \"dash\": \"solid\"}, \"type\": \"scatter\"}, {\"x\": [0, 1, 2, 3, 4, 5, 6, 7, 8, 9, 10, 11, 12, 13, 14, 15, 16, 17, 18, 19, 20, 21, 22, 23, 24, 25, 26, 27, 28, 29], \"type\": \"scatter\", \"xaxis\": \"x2\", \"fill\": \"tozeroy\", \"yaxis\": \"y2\", \"y\": [\"\", -42.0, -20.0, -26.0, \"\", \"\", \"\", -8.0, \"\", \"\", \"\", -10.0, \"\", -24.0, \"\", -2.0, -20.0, \"\", \"\", \"\", \"\", \"\", -30.0, -34.0, -18.0, -16.0, \"\", \"\", -14.0, \"\"], \"mode\": \"lines\", \"name\": \"Spread\", \"line\": {\"width\": 0.5, \"color\": \"red\", \"dash\": \"solid\"}, \"showlegend\": false, \"connectgaps\": false}, {\"x\": [0, 1, 2, 3, 4, 5, 6, 7, 8, 9, 10, 11, 12, 13, 14, 15, 16, 17, 18, 19, 20, 21, 22, 23, 24, 25, 26, 27, 28, 29], \"type\": \"scatter\", \"xaxis\": \"x2\", \"fill\": \"tozeroy\", \"yaxis\": \"y2\", \"y\": [24.0, \"\", \"\", \"\", 20.0, 0.0, 20.0, \"\", 2.0, 2.0, 4.0, \"\", 0.0, \"\", 16.0, \"\", \"\", 12.0, 0.0, 20.0, 52.0, 20.0, \"\", \"\", \"\", \"\", 28.0, 4.0, \"\", 40.0], \"mode\": \"lines\", \"name\": \"Spread\", \"line\": {\"width\": 0.5, \"color\": \"green\", \"dash\": \"solid\"}, \"showlegend\": false, \"connectgaps\": false}], {\"titlefont\": {\"color\": \"#4D5663\"}, \"yaxis2\": {\"titlefont\": {\"color\": \"#4D5663\"}, \"domain\": [0, 0.25], \"tickfont\": {\"color\": \"#4D5663\"}, \"gridcolor\": \"#E1E5ED\", \"title\": \"Spread\", \"showgrid\": true, \"zerolinecolor\": \"#E1E5ED\"}, \"paper_bgcolor\": \"#F5F6F9\", \"yaxis1\": {\"titlefont\": {\"color\": \"#4D5663\"}, \"domain\": [0.3, 1], \"tickfont\": {\"color\": \"#4D5663\"}, \"gridcolor\": \"#E1E5ED\", \"title\": \"\", \"showgrid\": true, \"zerolinecolor\": \"#E1E5ED\"}, \"xaxis1\": {\"titlefont\": {\"color\": \"#4D5663\"}, \"tickfont\": {\"color\": \"#4D5663\"}, \"gridcolor\": \"#E1E5ED\", \"title\": \"\", \"showgrid\": true, \"zerolinecolor\": \"#E1E5ED\"}, \"plot_bgcolor\": \"#F5F6F9\", \"xaxis2\": {\"titlefont\": {\"color\": \"#4D5663\"}, \"anchor\": \"y2\", \"tickfont\": {\"color\": \"#4D5663\"}, \"gridcolor\": \"#E1E5ED\", \"title\": \"\", \"showgrid\": true, \"zerolinecolor\": \"#E1E5ED\", \"showticklabels\": false}, \"legend\": {\"font\": {\"color\": \"#4D5663\"}, \"bgcolor\": \"#F5F6F9\"}, \"hovermode\": \"x\"}, {\"showLink\": true, \"linkText\": \"Export to plot.ly\"})});</script>"
      ],
      "text/vnd.plotly.v1+html": [
       "<div id=\"37be7970-335e-4fa1-ae7c-522fc9f6f7cc\" style=\"height: 525px; width: 100%;\" class=\"plotly-graph-div\"></div><script type=\"text/javascript\">require([\"plotly\"], function(Plotly) { window.PLOTLYENV=window.PLOTLYENV || {};window.PLOTLYENV.BASE_URL=\"https://plot.ly\";Plotly.newPlot(\"37be7970-335e-4fa1-ae7c-522fc9f6f7cc\", [{\"x\": [0, 1, 2, 3, 4, 5, 6, 7, 8, 9, 10, 11, 12, 13, 14, 15, 16, 17, 18, 19, 20, 21, 22, 23, 24, 25, 26, 27, 28, 29], \"y\": [53, 20, 31, 28, 51, 41, 51, 37, 42, 42, 43, 36, 41, 29, 49, 40, 31, 47, 41, 51, 67, 51, 26, 24, 32, 33, 55, 43, 34, 61], \"mode\": \"lines\", \"text\": \"\", \"name\": \"Wins\", \"line\": {\"width\": 1.3, \"color\": \"rgba(255, 153, 51, 1.0)\", \"dash\": \"solid\"}, \"type\": \"scatter\"}, {\"x\": [0, 1, 2, 3, 4, 5, 6, 7, 8, 9, 10, 11, 12, 13, 14, 15, 16, 17, 18, 19, 20, 21, 22, 23, 24, 25, 26, 27, 28, 29], \"y\": [29, 62, 51, 54, 31, 41, 31, 45, 40, 40, 39, 46, 41, 53, 33, 42, 51, 35, 41, 31, 15, 31, 56, 58, 50, 49, 27, 39, 48, 21], \"mode\": \"lines\", \"text\": \"\", \"name\": \"Losses\", \"line\": {\"width\": 1.3, \"color\": \"rgba(55, 128, 191, 1.0)\", \"dash\": \"solid\"}, \"type\": \"scatter\"}, {\"x\": [0, 1, 2, 3, 4, 5, 6, 7, 8, 9, 10, 11, 12, 13, 14, 15, 16, 17, 18, 19, 20, 21, 22, 23, 24, 25, 26, 27, 28, 29], \"type\": \"scatter\", \"xaxis\": \"x2\", \"fill\": \"tozeroy\", \"yaxis\": \"y2\", \"y\": [\"\", -42.0, -20.0, -26.0, \"\", \"\", \"\", -8.0, \"\", \"\", \"\", -10.0, \"\", -24.0, \"\", -2.0, -20.0, \"\", \"\", \"\", \"\", \"\", -30.0, -34.0, -18.0, -16.0, \"\", \"\", -14.0, \"\"], \"mode\": \"lines\", \"name\": \"Spread\", \"line\": {\"width\": 0.5, \"color\": \"red\", \"dash\": \"solid\"}, \"showlegend\": false, \"connectgaps\": false}, {\"x\": [0, 1, 2, 3, 4, 5, 6, 7, 8, 9, 10, 11, 12, 13, 14, 15, 16, 17, 18, 19, 20, 21, 22, 23, 24, 25, 26, 27, 28, 29], \"type\": \"scatter\", \"xaxis\": \"x2\", \"fill\": \"tozeroy\", \"yaxis\": \"y2\", \"y\": [24.0, \"\", \"\", \"\", 20.0, 0.0, 20.0, \"\", 2.0, 2.0, 4.0, \"\", 0.0, \"\", 16.0, \"\", \"\", 12.0, 0.0, 20.0, 52.0, 20.0, \"\", \"\", \"\", \"\", 28.0, 4.0, \"\", 40.0], \"mode\": \"lines\", \"name\": \"Spread\", \"line\": {\"width\": 0.5, \"color\": \"green\", \"dash\": \"solid\"}, \"showlegend\": false, \"connectgaps\": false}], {\"titlefont\": {\"color\": \"#4D5663\"}, \"yaxis2\": {\"titlefont\": {\"color\": \"#4D5663\"}, \"domain\": [0, 0.25], \"tickfont\": {\"color\": \"#4D5663\"}, \"gridcolor\": \"#E1E5ED\", \"title\": \"Spread\", \"showgrid\": true, \"zerolinecolor\": \"#E1E5ED\"}, \"paper_bgcolor\": \"#F5F6F9\", \"yaxis1\": {\"titlefont\": {\"color\": \"#4D5663\"}, \"domain\": [0.3, 1], \"tickfont\": {\"color\": \"#4D5663\"}, \"gridcolor\": \"#E1E5ED\", \"title\": \"\", \"showgrid\": true, \"zerolinecolor\": \"#E1E5ED\"}, \"xaxis1\": {\"titlefont\": {\"color\": \"#4D5663\"}, \"tickfont\": {\"color\": \"#4D5663\"}, \"gridcolor\": \"#E1E5ED\", \"title\": \"\", \"showgrid\": true, \"zerolinecolor\": \"#E1E5ED\"}, \"plot_bgcolor\": \"#F5F6F9\", \"xaxis2\": {\"titlefont\": {\"color\": \"#4D5663\"}, \"anchor\": \"y2\", \"tickfont\": {\"color\": \"#4D5663\"}, \"gridcolor\": \"#E1E5ED\", \"title\": \"\", \"showgrid\": true, \"zerolinecolor\": \"#E1E5ED\", \"showticklabels\": false}, \"legend\": {\"font\": {\"color\": \"#4D5663\"}, \"bgcolor\": \"#F5F6F9\"}, \"hovermode\": \"x\"}, {\"showLink\": true, \"linkText\": \"Export to plot.ly\"})});</script>"
      ]
     },
     "metadata": {},
     "output_type": "display_data"
    }
   ],
   "source": [
    "quant_division_info = division_info.drop(['Team_Name', 'Conference_id', 'Elimination Date'], axis=1)\n",
    "quant_division_info.iplot(kind='spread')"
   ]
  },
  {
   "cell_type": "code",
   "execution_count": 30,
   "metadata": {
    "collapsed": false
   },
   "outputs": [
    {
     "data": {
      "application/vnd.plotly.v1+json": {
       "data": [
        {
         "boxpoints": false,
         "line": {
          "width": 1.3
         },
         "marker": {
          "color": "rgba(255, 153, 51, 1.0)"
         },
         "name": "Wins",
         "type": "box",
         "y": [
          53,
          20,
          31,
          28,
          51,
          41,
          51,
          37,
          42,
          42,
          43,
          36,
          41,
          29,
          49,
          40,
          31,
          47,
          41,
          51,
          67,
          51,
          26,
          24,
          32,
          33,
          55,
          43,
          34,
          61
         ]
        },
        {
         "boxpoints": false,
         "line": {
          "width": 1.3
         },
         "marker": {
          "color": "rgba(55, 128, 191, 1.0)"
         },
         "name": "Losses",
         "type": "box",
         "y": [
          29,
          62,
          51,
          54,
          31,
          41,
          31,
          45,
          40,
          40,
          39,
          46,
          41,
          53,
          33,
          42,
          51,
          35,
          41,
          31,
          15,
          31,
          56,
          58,
          50,
          49,
          27,
          39,
          48,
          21
         ]
        }
       ],
       "layout": {
        "legend": {
         "bgcolor": "#F5F6F9",
         "font": {
          "color": "#4D5663"
         }
        },
        "paper_bgcolor": "#F5F6F9",
        "plot_bgcolor": "#F5F6F9",
        "titlefont": {
         "color": "#4D5663"
        },
        "xaxis1": {
         "gridcolor": "#E1E5ED",
         "showgrid": true,
         "tickfont": {
          "color": "#4D5663"
         },
         "title": "",
         "titlefont": {
          "color": "#4D5663"
         },
         "zerolinecolor": "#E1E5ED"
        },
        "yaxis1": {
         "gridcolor": "#E1E5ED",
         "showgrid": true,
         "tickfont": {
          "color": "#4D5663"
         },
         "title": "",
         "titlefont": {
          "color": "#4D5663"
         },
         "zerolinecolor": "#E1E5ED"
        }
       }
      },
      "text/html": [
       "<div id=\"e8fec8b0-338d-4415-9ea0-4a93cebfebd8\" style=\"height: 525px; width: 100%;\" class=\"plotly-graph-div\"></div><script type=\"text/javascript\">require([\"plotly\"], function(Plotly) { window.PLOTLYENV=window.PLOTLYENV || {};window.PLOTLYENV.BASE_URL=\"https://plot.ly\";Plotly.newPlot(\"e8fec8b0-338d-4415-9ea0-4a93cebfebd8\", [{\"boxpoints\": false, \"marker\": {\"color\": \"rgba(255, 153, 51, 1.0)\"}, \"y\": [53, 20, 31, 28, 51, 41, 51, 37, 42, 42, 43, 36, 41, 29, 49, 40, 31, 47, 41, 51, 67, 51, 26, 24, 32, 33, 55, 43, 34, 61], \"name\": \"Wins\", \"line\": {\"width\": 1.3}, \"type\": \"box\"}, {\"boxpoints\": false, \"marker\": {\"color\": \"rgba(55, 128, 191, 1.0)\"}, \"y\": [29, 62, 51, 54, 31, 41, 31, 45, 40, 40, 39, 46, 41, 53, 33, 42, 51, 35, 41, 31, 15, 31, 56, 58, 50, 49, 27, 39, 48, 21], \"name\": \"Losses\", \"line\": {\"width\": 1.3}, \"type\": \"box\"}], {\"titlefont\": {\"color\": \"#4D5663\"}, \"paper_bgcolor\": \"#F5F6F9\", \"yaxis1\": {\"titlefont\": {\"color\": \"#4D5663\"}, \"tickfont\": {\"color\": \"#4D5663\"}, \"gridcolor\": \"#E1E5ED\", \"title\": \"\", \"showgrid\": true, \"zerolinecolor\": \"#E1E5ED\"}, \"plot_bgcolor\": \"#F5F6F9\", \"xaxis1\": {\"titlefont\": {\"color\": \"#4D5663\"}, \"tickfont\": {\"color\": \"#4D5663\"}, \"gridcolor\": \"#E1E5ED\", \"title\": \"\", \"showgrid\": true, \"zerolinecolor\": \"#E1E5ED\"}, \"legend\": {\"font\": {\"color\": \"#4D5663\"}, \"bgcolor\": \"#F5F6F9\"}}, {\"showLink\": true, \"linkText\": \"Export to plot.ly\"})});</script>"
      ],
      "text/vnd.plotly.v1+html": [
       "<div id=\"e8fec8b0-338d-4415-9ea0-4a93cebfebd8\" style=\"height: 525px; width: 100%;\" class=\"plotly-graph-div\"></div><script type=\"text/javascript\">require([\"plotly\"], function(Plotly) { window.PLOTLYENV=window.PLOTLYENV || {};window.PLOTLYENV.BASE_URL=\"https://plot.ly\";Plotly.newPlot(\"e8fec8b0-338d-4415-9ea0-4a93cebfebd8\", [{\"boxpoints\": false, \"marker\": {\"color\": \"rgba(255, 153, 51, 1.0)\"}, \"y\": [53, 20, 31, 28, 51, 41, 51, 37, 42, 42, 43, 36, 41, 29, 49, 40, 31, 47, 41, 51, 67, 51, 26, 24, 32, 33, 55, 43, 34, 61], \"name\": \"Wins\", \"line\": {\"width\": 1.3}, \"type\": \"box\"}, {\"boxpoints\": false, \"marker\": {\"color\": \"rgba(55, 128, 191, 1.0)\"}, \"y\": [29, 62, 51, 54, 31, 41, 31, 45, 40, 40, 39, 46, 41, 53, 33, 42, 51, 35, 41, 31, 15, 31, 56, 58, 50, 49, 27, 39, 48, 21], \"name\": \"Losses\", \"line\": {\"width\": 1.3}, \"type\": \"box\"}], {\"titlefont\": {\"color\": \"#4D5663\"}, \"paper_bgcolor\": \"#F5F6F9\", \"yaxis1\": {\"titlefont\": {\"color\": \"#4D5663\"}, \"tickfont\": {\"color\": \"#4D5663\"}, \"gridcolor\": \"#E1E5ED\", \"title\": \"\", \"showgrid\": true, \"zerolinecolor\": \"#E1E5ED\"}, \"plot_bgcolor\": \"#F5F6F9\", \"xaxis1\": {\"titlefont\": {\"color\": \"#4D5663\"}, \"tickfont\": {\"color\": \"#4D5663\"}, \"gridcolor\": \"#E1E5ED\", \"title\": \"\", \"showgrid\": true, \"zerolinecolor\": \"#E1E5ED\"}, \"legend\": {\"font\": {\"color\": \"#4D5663\"}, \"bgcolor\": \"#F5F6F9\"}}, {\"showLink\": true, \"linkText\": \"Export to plot.ly\"})});</script>"
      ]
     },
     "metadata": {},
     "output_type": "display_data"
    }
   ],
   "source": [
    "quant_division_info.iplot(kind='box')"
   ]
  },
  {
   "cell_type": "code",
   "execution_count": 33,
   "metadata": {
    "collapsed": false
   },
   "outputs": [
    {
     "data": {
      "application/vnd.plotly.v1+json": {
       "data": [
        {
         "histfunc": "count",
         "histnorm": "",
         "marker": {
          "color": "rgba(255, 153, 51, 1.0)",
          "line": {
           "color": "#4D5663",
           "width": 1.3
          }
         },
         "name": "Wins",
         "nbinsx": 20,
         "opacity": 0.8,
         "orientation": "v",
         "type": "histogram",
         "x": [
          53,
          20,
          31,
          28,
          51,
          41,
          51,
          37,
          42,
          42,
          43,
          36,
          41,
          29,
          49,
          40,
          31,
          47,
          41,
          51,
          67,
          51,
          26,
          24,
          32,
          33,
          55,
          43,
          34,
          61
         ]
        }
       ],
       "layout": {
        "barmode": "overlay",
        "legend": {
         "bgcolor": "#F5F6F9",
         "font": {
          "color": "#4D5663"
         }
        },
        "paper_bgcolor": "#F5F6F9",
        "plot_bgcolor": "#F5F6F9",
        "titlefont": {
         "color": "#4D5663"
        },
        "xaxis1": {
         "gridcolor": "#E1E5ED",
         "showgrid": true,
         "tickfont": {
          "color": "#4D5663"
         },
         "title": "",
         "titlefont": {
          "color": "#4D5663"
         },
         "zerolinecolor": "#E1E5ED"
        },
        "yaxis1": {
         "gridcolor": "#E1E5ED",
         "showgrid": true,
         "tickfont": {
          "color": "#4D5663"
         },
         "title": "",
         "titlefont": {
          "color": "#4D5663"
         },
         "zerolinecolor": "#E1E5ED"
        }
       }
      },
      "text/html": [
       "<div id=\"f3d8b386-61d5-4f61-bb61-e769a5bae669\" style=\"height: 525px; width: 100%;\" class=\"plotly-graph-div\"></div><script type=\"text/javascript\">require([\"plotly\"], function(Plotly) { window.PLOTLYENV=window.PLOTLYENV || {};window.PLOTLYENV.BASE_URL=\"https://plot.ly\";Plotly.newPlot(\"f3d8b386-61d5-4f61-bb61-e769a5bae669\", [{\"x\": [53, 20, 31, 28, 51, 41, 51, 37, 42, 42, 43, 36, 41, 29, 49, 40, 31, 47, 41, 51, 67, 51, 26, 24, 32, 33, 55, 43, 34, 61], \"histnorm\": \"\", \"opacity\": 0.8, \"marker\": {\"color\": \"rgba(255, 153, 51, 1.0)\", \"line\": {\"width\": 1.3, \"color\": \"#4D5663\"}}, \"histfunc\": \"count\", \"name\": \"Wins\", \"nbinsx\": 20, \"type\": \"histogram\", \"orientation\": \"v\"}], {\"titlefont\": {\"color\": \"#4D5663\"}, \"paper_bgcolor\": \"#F5F6F9\", \"yaxis1\": {\"titlefont\": {\"color\": \"#4D5663\"}, \"tickfont\": {\"color\": \"#4D5663\"}, \"gridcolor\": \"#E1E5ED\", \"title\": \"\", \"showgrid\": true, \"zerolinecolor\": \"#E1E5ED\"}, \"plot_bgcolor\": \"#F5F6F9\", \"xaxis1\": {\"titlefont\": {\"color\": \"#4D5663\"}, \"tickfont\": {\"color\": \"#4D5663\"}, \"gridcolor\": \"#E1E5ED\", \"title\": \"\", \"showgrid\": true, \"zerolinecolor\": \"#E1E5ED\"}, \"barmode\": \"overlay\", \"legend\": {\"font\": {\"color\": \"#4D5663\"}, \"bgcolor\": \"#F5F6F9\"}}, {\"showLink\": true, \"linkText\": \"Export to plot.ly\"})});</script>"
      ],
      "text/vnd.plotly.v1+html": [
       "<div id=\"f3d8b386-61d5-4f61-bb61-e769a5bae669\" style=\"height: 525px; width: 100%;\" class=\"plotly-graph-div\"></div><script type=\"text/javascript\">require([\"plotly\"], function(Plotly) { window.PLOTLYENV=window.PLOTLYENV || {};window.PLOTLYENV.BASE_URL=\"https://plot.ly\";Plotly.newPlot(\"f3d8b386-61d5-4f61-bb61-e769a5bae669\", [{\"x\": [53, 20, 31, 28, 51, 41, 51, 37, 42, 42, 43, 36, 41, 29, 49, 40, 31, 47, 41, 51, 67, 51, 26, 24, 32, 33, 55, 43, 34, 61], \"histnorm\": \"\", \"opacity\": 0.8, \"marker\": {\"color\": \"rgba(255, 153, 51, 1.0)\", \"line\": {\"width\": 1.3, \"color\": \"#4D5663\"}}, \"histfunc\": \"count\", \"name\": \"Wins\", \"nbinsx\": 20, \"type\": \"histogram\", \"orientation\": \"v\"}], {\"titlefont\": {\"color\": \"#4D5663\"}, \"paper_bgcolor\": \"#F5F6F9\", \"yaxis1\": {\"titlefont\": {\"color\": \"#4D5663\"}, \"tickfont\": {\"color\": \"#4D5663\"}, \"gridcolor\": \"#E1E5ED\", \"title\": \"\", \"showgrid\": true, \"zerolinecolor\": \"#E1E5ED\"}, \"plot_bgcolor\": \"#F5F6F9\", \"xaxis1\": {\"titlefont\": {\"color\": \"#4D5663\"}, \"tickfont\": {\"color\": \"#4D5663\"}, \"gridcolor\": \"#E1E5ED\", \"title\": \"\", \"showgrid\": true, \"zerolinecolor\": \"#E1E5ED\"}, \"barmode\": \"overlay\", \"legend\": {\"font\": {\"color\": \"#4D5663\"}, \"bgcolor\": \"#F5F6F9\"}}, {\"showLink\": true, \"linkText\": \"Export to plot.ly\"})});</script>"
      ]
     },
     "metadata": {},
     "output_type": "display_data"
    }
   ],
   "source": [
    "quant_division_info['Wins'].iplot(kind='hist', bins=20)"
   ]
  },
  {
   "cell_type": "code",
   "execution_count": 37,
   "metadata": {
    "collapsed": false
   },
   "outputs": [
    {
     "data": {
      "application/vnd.plotly.v1+json": {
       "data": [
        {
         "histfunc": "count",
         "histnorm": "",
         "marker": {
          "color": "rgba(255, 153, 51, 1.0)",
          "line": {
           "color": "#4D5663",
           "width": 1.3
          }
         },
         "name": "Wins",
         "nbinsx": 10,
         "opacity": 0.8,
         "orientation": "v",
         "type": "histogram",
         "x": [
          53,
          20,
          31,
          28,
          51,
          41,
          51,
          37,
          42,
          42,
          43,
          36,
          41,
          29,
          49,
          40,
          31,
          47,
          41,
          51,
          67,
          51,
          26,
          24,
          32,
          33,
          55,
          43,
          34,
          61
         ],
         "xaxis": "x1",
         "yaxis": "y1"
        },
        {
         "line": {
          "color": "rgba(128, 128, 128, 1.0)",
          "dash": "solid",
          "width": 1.3
         },
         "marker": {
          "size": 2,
          "symbol": "dot"
         },
         "mode": "markers",
         "name": "Wins",
         "text": "",
         "type": "scatter",
         "x": [
          29,
          62,
          51,
          54,
          31,
          41,
          31,
          45,
          40,
          40,
          39,
          46,
          41,
          53,
          33,
          42,
          51,
          35,
          41,
          31,
          15,
          31,
          56,
          58,
          50,
          49,
          27,
          39,
          48,
          21
         ],
         "xaxis": "x2",
         "y": [
          53,
          20,
          31,
          28,
          51,
          41,
          51,
          37,
          42,
          42,
          43,
          36,
          41,
          29,
          49,
          40,
          31,
          47,
          41,
          51,
          67,
          51,
          26,
          24,
          32,
          33,
          55,
          43,
          34,
          61
         ],
         "yaxis": "y2"
        },
        {
         "line": {
          "color": "rgba(128, 128, 128, 1.0)",
          "dash": "solid",
          "width": 1.3
         },
         "marker": {
          "size": 2,
          "symbol": "dot"
         },
         "mode": "markers",
         "name": "Losses",
         "text": "",
         "type": "scatter",
         "x": [
          53,
          20,
          31,
          28,
          51,
          41,
          51,
          37,
          42,
          42,
          43,
          36,
          41,
          29,
          49,
          40,
          31,
          47,
          41,
          51,
          67,
          51,
          26,
          24,
          32,
          33,
          55,
          43,
          34,
          61
         ],
         "xaxis": "x3",
         "y": [
          29,
          62,
          51,
          54,
          31,
          41,
          31,
          45,
          40,
          40,
          39,
          46,
          41,
          53,
          33,
          42,
          51,
          35,
          41,
          31,
          15,
          31,
          56,
          58,
          50,
          49,
          27,
          39,
          48,
          21
         ],
         "yaxis": "y3"
        },
        {
         "histfunc": "count",
         "histnorm": "",
         "marker": {
          "color": "rgba(55, 128, 191, 1.0)",
          "line": {
           "color": "#4D5663",
           "width": 1.3
          }
         },
         "name": "Losses",
         "nbinsx": 10,
         "opacity": 0.8,
         "orientation": "v",
         "type": "histogram",
         "x": [
          29,
          62,
          51,
          54,
          31,
          41,
          31,
          45,
          40,
          40,
          39,
          46,
          41,
          53,
          33,
          42,
          51,
          35,
          41,
          31,
          15,
          31,
          56,
          58,
          50,
          49,
          27,
          39,
          48,
          21
         ],
         "xaxis": "x4",
         "yaxis": "y4"
        }
       ],
       "layout": {
        "bargap": 0.02,
        "legend": {
         "bgcolor": "#F5F6F9",
         "font": {
          "color": "#4D5663"
         }
        },
        "paper_bgcolor": "#F5F6F9",
        "plot_bgcolor": "#F5F6F9",
        "showlegend": false,
        "titlefont": {
         "color": "#4D5663"
        },
        "xaxis1": {
         "anchor": "y1",
         "domain": [
          0,
          0.475
         ],
         "gridcolor": "#E1E5ED",
         "showgrid": false,
         "tickfont": {
          "color": "#4D5663"
         },
         "title": "",
         "titlefont": {
          "color": "#4D5663"
         },
         "zerolinecolor": "#E1E5ED"
        },
        "xaxis2": {
         "anchor": "y2",
         "domain": [
          0.525,
          1
         ]
        },
        "xaxis3": {
         "anchor": "y3",
         "domain": [
          0,
          0.475
         ]
        },
        "xaxis4": {
         "anchor": "y4",
         "domain": [
          0.525,
          1
         ]
        },
        "yaxis1": {
         "anchor": "x1",
         "domain": [
          0.5349999999999999,
          0.9999999999999999
         ],
         "gridcolor": "#E1E5ED",
         "showgrid": false,
         "tickfont": {
          "color": "#4D5663"
         },
         "title": "",
         "titlefont": {
          "color": "#4D5663"
         },
         "zerolinecolor": "#E1E5ED"
        },
        "yaxis2": {
         "anchor": "x2",
         "domain": [
          0.5349999999999999,
          0.9999999999999999
         ]
        },
        "yaxis3": {
         "anchor": "x3",
         "domain": [
          0,
          0.46499999999999997
         ]
        },
        "yaxis4": {
         "anchor": "x4",
         "domain": [
          0,
          0.46499999999999997
         ]
        }
       }
      },
      "text/html": [
       "<div id=\"8eafbe66-f73f-4b66-8778-8a5ee302c618\" style=\"height: 525px; width: 100%;\" class=\"plotly-graph-div\"></div><script type=\"text/javascript\">require([\"plotly\"], function(Plotly) { window.PLOTLYENV=window.PLOTLYENV || {};window.PLOTLYENV.BASE_URL=\"https://plot.ly\";Plotly.newPlot(\"8eafbe66-f73f-4b66-8778-8a5ee302c618\", [{\"x\": [53, 20, 31, 28, 51, 41, 51, 37, 42, 42, 43, 36, 41, 29, 49, 40, 31, 47, 41, 51, 67, 51, 26, 24, 32, 33, 55, 43, 34, 61], \"xaxis\": \"x1\", \"histnorm\": \"\", \"histfunc\": \"count\", \"marker\": {\"line\": {\"width\": 1.3, \"color\": \"#4D5663\"}, \"color\": \"rgba(255, 153, 51, 1.0)\"}, \"yaxis\": \"y1\", \"opacity\": 0.8, \"name\": \"Wins\", \"nbinsx\": 10, \"type\": \"histogram\", \"orientation\": \"v\"}, {\"x\": [29, 62, 51, 54, 31, 41, 31, 45, 40, 40, 39, 46, 41, 53, 33, 42, 51, 35, 41, 31, 15, 31, 56, 58, 50, 49, 27, 39, 48, 21], \"xaxis\": \"x2\", \"marker\": {\"size\": 2, \"symbol\": \"dot\"}, \"yaxis\": \"y2\", \"y\": [53, 20, 31, 28, 51, 41, 51, 37, 42, 42, 43, 36, 41, 29, 49, 40, 31, 47, 41, 51, 67, 51, 26, 24, 32, 33, 55, 43, 34, 61], \"mode\": \"markers\", \"text\": \"\", \"name\": \"Wins\", \"line\": {\"width\": 1.3, \"color\": \"rgba(128, 128, 128, 1.0)\", \"dash\": \"solid\"}, \"type\": \"scatter\"}, {\"x\": [53, 20, 31, 28, 51, 41, 51, 37, 42, 42, 43, 36, 41, 29, 49, 40, 31, 47, 41, 51, 67, 51, 26, 24, 32, 33, 55, 43, 34, 61], \"xaxis\": \"x3\", \"marker\": {\"size\": 2, \"symbol\": \"dot\"}, \"yaxis\": \"y3\", \"y\": [29, 62, 51, 54, 31, 41, 31, 45, 40, 40, 39, 46, 41, 53, 33, 42, 51, 35, 41, 31, 15, 31, 56, 58, 50, 49, 27, 39, 48, 21], \"mode\": \"markers\", \"text\": \"\", \"name\": \"Losses\", \"line\": {\"width\": 1.3, \"color\": \"rgba(128, 128, 128, 1.0)\", \"dash\": \"solid\"}, \"type\": \"scatter\"}, {\"x\": [29, 62, 51, 54, 31, 41, 31, 45, 40, 40, 39, 46, 41, 53, 33, 42, 51, 35, 41, 31, 15, 31, 56, 58, 50, 49, 27, 39, 48, 21], \"xaxis\": \"x4\", \"histnorm\": \"\", \"histfunc\": \"count\", \"marker\": {\"line\": {\"width\": 1.3, \"color\": \"#4D5663\"}, \"color\": \"rgba(55, 128, 191, 1.0)\"}, \"yaxis\": \"y4\", \"opacity\": 0.8, \"name\": \"Losses\", \"nbinsx\": 10, \"type\": \"histogram\", \"orientation\": \"v\"}], {\"xaxis3\": {\"domain\": [0.0, 0.475], \"anchor\": \"y3\"}, \"yaxis3\": {\"domain\": [0.0, 0.46499999999999997], \"anchor\": \"x3\"}, \"bargap\": 0.02, \"paper_bgcolor\": \"#F5F6F9\", \"xaxis2\": {\"domain\": [0.525, 1.0], \"anchor\": \"y2\"}, \"xaxis4\": {\"domain\": [0.525, 1.0], \"anchor\": \"y4\"}, \"legend\": {\"font\": {\"color\": \"#4D5663\"}, \"bgcolor\": \"#F5F6F9\"}, \"showlegend\": false, \"titlefont\": {\"color\": \"#4D5663\"}, \"yaxis2\": {\"domain\": [0.5349999999999999, 0.9999999999999999], \"anchor\": \"x2\"}, \"xaxis1\": {\"domain\": [0.0, 0.475], \"anchor\": \"y1\", \"tickfont\": {\"color\": \"#4D5663\"}, \"gridcolor\": \"#E1E5ED\", \"title\": \"\", \"showgrid\": false, \"zerolinecolor\": \"#E1E5ED\", \"titlefont\": {\"color\": \"#4D5663\"}}, \"yaxis1\": {\"domain\": [0.5349999999999999, 0.9999999999999999], \"anchor\": \"x1\", \"tickfont\": {\"color\": \"#4D5663\"}, \"gridcolor\": \"#E1E5ED\", \"title\": \"\", \"showgrid\": false, \"zerolinecolor\": \"#E1E5ED\", \"titlefont\": {\"color\": \"#4D5663\"}}, \"plot_bgcolor\": \"#F5F6F9\", \"yaxis4\": {\"domain\": [0.0, 0.46499999999999997], \"anchor\": \"x4\"}}, {\"showLink\": true, \"linkText\": \"Export to plot.ly\"})});</script>"
      ],
      "text/vnd.plotly.v1+html": [
       "<div id=\"8eafbe66-f73f-4b66-8778-8a5ee302c618\" style=\"height: 525px; width: 100%;\" class=\"plotly-graph-div\"></div><script type=\"text/javascript\">require([\"plotly\"], function(Plotly) { window.PLOTLYENV=window.PLOTLYENV || {};window.PLOTLYENV.BASE_URL=\"https://plot.ly\";Plotly.newPlot(\"8eafbe66-f73f-4b66-8778-8a5ee302c618\", [{\"x\": [53, 20, 31, 28, 51, 41, 51, 37, 42, 42, 43, 36, 41, 29, 49, 40, 31, 47, 41, 51, 67, 51, 26, 24, 32, 33, 55, 43, 34, 61], \"xaxis\": \"x1\", \"histnorm\": \"\", \"histfunc\": \"count\", \"marker\": {\"line\": {\"width\": 1.3, \"color\": \"#4D5663\"}, \"color\": \"rgba(255, 153, 51, 1.0)\"}, \"yaxis\": \"y1\", \"opacity\": 0.8, \"name\": \"Wins\", \"nbinsx\": 10, \"type\": \"histogram\", \"orientation\": \"v\"}, {\"x\": [29, 62, 51, 54, 31, 41, 31, 45, 40, 40, 39, 46, 41, 53, 33, 42, 51, 35, 41, 31, 15, 31, 56, 58, 50, 49, 27, 39, 48, 21], \"xaxis\": \"x2\", \"marker\": {\"size\": 2, \"symbol\": \"dot\"}, \"yaxis\": \"y2\", \"y\": [53, 20, 31, 28, 51, 41, 51, 37, 42, 42, 43, 36, 41, 29, 49, 40, 31, 47, 41, 51, 67, 51, 26, 24, 32, 33, 55, 43, 34, 61], \"mode\": \"markers\", \"text\": \"\", \"name\": \"Wins\", \"line\": {\"width\": 1.3, \"color\": \"rgba(128, 128, 128, 1.0)\", \"dash\": \"solid\"}, \"type\": \"scatter\"}, {\"x\": [53, 20, 31, 28, 51, 41, 51, 37, 42, 42, 43, 36, 41, 29, 49, 40, 31, 47, 41, 51, 67, 51, 26, 24, 32, 33, 55, 43, 34, 61], \"xaxis\": \"x3\", \"marker\": {\"size\": 2, \"symbol\": \"dot\"}, \"yaxis\": \"y3\", \"y\": [29, 62, 51, 54, 31, 41, 31, 45, 40, 40, 39, 46, 41, 53, 33, 42, 51, 35, 41, 31, 15, 31, 56, 58, 50, 49, 27, 39, 48, 21], \"mode\": \"markers\", \"text\": \"\", \"name\": \"Losses\", \"line\": {\"width\": 1.3, \"color\": \"rgba(128, 128, 128, 1.0)\", \"dash\": \"solid\"}, \"type\": \"scatter\"}, {\"x\": [29, 62, 51, 54, 31, 41, 31, 45, 40, 40, 39, 46, 41, 53, 33, 42, 51, 35, 41, 31, 15, 31, 56, 58, 50, 49, 27, 39, 48, 21], \"xaxis\": \"x4\", \"histnorm\": \"\", \"histfunc\": \"count\", \"marker\": {\"line\": {\"width\": 1.3, \"color\": \"#4D5663\"}, \"color\": \"rgba(55, 128, 191, 1.0)\"}, \"yaxis\": \"y4\", \"opacity\": 0.8, \"name\": \"Losses\", \"nbinsx\": 10, \"type\": \"histogram\", \"orientation\": \"v\"}], {\"xaxis3\": {\"domain\": [0.0, 0.475], \"anchor\": \"y3\"}, \"yaxis3\": {\"domain\": [0.0, 0.46499999999999997], \"anchor\": \"x3\"}, \"bargap\": 0.02, \"paper_bgcolor\": \"#F5F6F9\", \"xaxis2\": {\"domain\": [0.525, 1.0], \"anchor\": \"y2\"}, \"xaxis4\": {\"domain\": [0.525, 1.0], \"anchor\": \"y4\"}, \"legend\": {\"font\": {\"color\": \"#4D5663\"}, \"bgcolor\": \"#F5F6F9\"}, \"showlegend\": false, \"titlefont\": {\"color\": \"#4D5663\"}, \"yaxis2\": {\"domain\": [0.5349999999999999, 0.9999999999999999], \"anchor\": \"x2\"}, \"xaxis1\": {\"domain\": [0.0, 0.475], \"anchor\": \"y1\", \"tickfont\": {\"color\": \"#4D5663\"}, \"gridcolor\": \"#E1E5ED\", \"title\": \"\", \"showgrid\": false, \"zerolinecolor\": \"#E1E5ED\", \"titlefont\": {\"color\": \"#4D5663\"}}, \"yaxis1\": {\"domain\": [0.5349999999999999, 0.9999999999999999], \"anchor\": \"x1\", \"tickfont\": {\"color\": \"#4D5663\"}, \"gridcolor\": \"#E1E5ED\", \"title\": \"\", \"showgrid\": false, \"zerolinecolor\": \"#E1E5ED\", \"titlefont\": {\"color\": \"#4D5663\"}}, \"plot_bgcolor\": \"#F5F6F9\", \"yaxis4\": {\"domain\": [0.0, 0.46499999999999997], \"anchor\": \"x4\"}}, {\"showLink\": true, \"linkText\": \"Export to plot.ly\"})});</script>"
      ]
     },
     "metadata": {},
     "output_type": "display_data"
    }
   ],
   "source": [
    "# quant_division_info.iplot(kind='bubble', x='Wins', y='Losses')\n",
    "quant_division_info.scatter_matrix()"
   ]
  }
 ],
 "metadata": {
  "anaconda-cloud": {},
  "kernelspec": {
   "display_name": "Python [Root]",
   "language": "python",
   "name": "Python [Root]"
  },
  "language_info": {
   "codemirror_mode": {
    "name": "ipython",
    "version": 3
   },
   "file_extension": ".py",
   "mimetype": "text/x-python",
   "name": "python",
   "nbconvert_exporter": "python",
   "pygments_lexer": "ipython3",
   "version": "3.5.2"
  }
 },
 "nbformat": 4,
 "nbformat_minor": 1
}
